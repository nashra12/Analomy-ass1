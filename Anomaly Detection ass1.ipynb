{
 "cells": [
  {
   "cell_type": "markdown",
   "id": "5eaf6160-c407-4eda-a738-de6a8c8056f9",
   "metadata": {},
   "source": [
    "Q1. What is anomaly detection and what is its purpose?\n",
    "Ans-> Anomaly detection Helps to detect outliers Important for a problem statement,suppose a person having a disease this will show as outlier sometimes outliers are important depends on data.\n",
    "\n",
    "\n",
    "Q2. What are the key challenges in anomaly detection?\n",
    "Ans-> One of the main challenges in anomaly detection is the quality of the data that is used to train and test the models. eg; \n",
    "Null data or incomplete datasets.\n",
    "How to solve data quality issues?\n",
    "\n",
    "1)Standardize all data formats \n",
    "2)Remove duplicate data\n",
    "3)Pre-process your input features into a standard scale before building a model.\n",
    "\n",
    "\n",
    "Q3. How does unsupervised anomaly detection differ from supervised anomaly detection?\n",
    "Ans-> Unsupervised anomaly detection is a type of machine learning that aims to identify outliers or abnormal patterns in data without any prior knowledge or labels. It can be useful for detecting fraud.\n",
    "A machine learning model trained with labeled data will be able to detect outliers based on the examples it is given.\n",
    "\n",
    "\n",
    "\n",
    "Q4. What are the main categories of anomaly detection algorithms?\n",
    "Ans->   Isolation forest.\n",
    "    Local outlier factor.\n",
    "    Robust covariance.\n",
    "    One-class support vector machine (SVM)\n",
    "    One-class SVM with stochastic gradient descent (SGD)\n",
    "    \n",
    "    \n",
    "    \n",
    "Q5. What are the main assumptions made by distance-based anomaly detection methods?\n",
    "Ans-> Distance-based outlier detection method consults the neighbourhood of an object, which is defined by a given radius. An object is then considered an outlier if its neighborhood does not have enough other points. A distance the threshold that can be defined as a reasonable neighbourhood of the object.\n",
    "\n",
    "\n",
    "\n",
    "Q6. How does the LOF algorithm compute anomaly scores?\n",
    "Ans-> The LOF algorithm is an unsupervised algorithm for anomaly detection. It borrows concepts from the K-nearest neighbors algorithm and produces an anomaly score based on how isolated a point is from its local neighbors.\n",
    " \n",
    "\n",
    "\n",
    "Q7. If a data point has only 2 neighbours of the same class within a radius of 0.5, what is its anomaly score\n",
    "using KNN with K=10?\n",
    "Ans-> Density-Based:\n",
    "Anomaly score could be Score = 1−( Number of Neighbors within Radius/k)=1−(2/10)=0.8.\n",
    "\n",
    "\n",
    "Q9. Using the Isolation Forest algorithm with 100 trees and a dataset of 3000 data points, what is the\n",
    "anomaly score for a data point that has an average path length of 5.0 compared to the average path\n",
    "length of the trees?\n",
    "\n",
    "Ans-> s(x,n)=2^−E(h(x))/c(n)\n",
    "Dataset size n=3000\n",
    "Number of trees = 100 (not directly relevant for the formula but affects the averaging process)\n",
    "Average path length of the point E(h(x))=5.0"
   ]
  },
  {
   "cell_type": "code",
   "execution_count": null,
   "id": "9ab75036-e3de-4162-a3f7-76a5630d6ef9",
   "metadata": {},
   "outputs": [],
   "source": []
  }
 ],
 "metadata": {
  "kernelspec": {
   "display_name": "Python 3 (ipykernel)",
   "language": "python",
   "name": "python3"
  },
  "language_info": {
   "codemirror_mode": {
    "name": "ipython",
    "version": 3
   },
   "file_extension": ".py",
   "mimetype": "text/x-python",
   "name": "python",
   "nbconvert_exporter": "python",
   "pygments_lexer": "ipython3",
   "version": "3.10.8"
  }
 },
 "nbformat": 4,
 "nbformat_minor": 5
}
